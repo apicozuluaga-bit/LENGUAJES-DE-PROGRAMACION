{
  "nbformat": 4,
  "nbformat_minor": 0,
  "metadata": {
    "colab": {
      "provenance": []
    },
    "kernelspec": {
      "name": "python3",
      "display_name": "Python 3"
    },
    "language_info": {
      "name": "python"
    }
  },
  "cells": [
    {
      "cell_type": "markdown",
      "source": [
        "\n",
        "# **VALOR PRESENTE NETO**\n",
        "\n",
        "El Valor Presente Neto (VPN), también conocido como Valor Actual Neto (VAN), es un método de evaluación financiera que calcula la diferencia entre el valor actual de los flujos de efectivo futuros esperados de un proyecto y la inversión inicial. Este indicador considera el valor del dinero en el tiempo, descontando los flujos futuros a una tasa de interés específica para determinar si la inversión generará ganancias (VPN positivo) o pérdidas (VPN negativo) en términos actuales.\n",
        "\n",
        "## Formula del Valor Presente Neto (VPN)\n",
        "\n",
        "La formula del  VPN se expresa de la siguiente manera:\n",
        "\n",
        "\\[\n",
        "$$\n",
        "VPN = \\sum_{t=0}^{n} \\frac{c_t}{(1+r)^t} - C_0\n",
        "$$\n",
        "\n",
        "\\]\n",
        "\n",
        "Donde:\n",
        "\n",
        "- \\(C_t\\) es el flujo de caja en el tiempo \\(t\\).\n",
        "- \\(r\\) es la tasa de descuento.\n",
        "- \\(n\\) es el numero total de periodos.\n",
        "- \\(C_0\\) es la inversion inicial.\n",
        "\n",
        "### **Interpretación**\n",
        "\n",
        "- Si \\(VPN > 0\\), La inversion es rentable.\n",
        "- Si \\(VPN > 0\\), La inversion no es rentable.\n",
        "- Si \\(VPN > 0\\), La inversion no genera ni perdida ni ganancias.\n",
        "\n",
        "## Enlace Util\n",
        "\n",
        "para obtener mas informacion sobre el Valor Presente Neto, puedes consultar el siguiente [enlace](https://blog.hubspot.es/sales/que-es-valor-presente-neto).\n",
        "\n"
      ],
      "metadata": {
        "id": "45hQ4pbgorT4"
      }
    },
    {
      "cell_type": "markdown",
      "source": [
        " \\[\n",
        "$$\n",
        "VPN = \\sum_{t=0}^{n} \\frac{c_t}{(1+r)^t} - C_0\n",
        "$$\n",
        "\n",
        "\\]"
      ],
      "metadata": {
        "id": "4yh1_1VJ4HB5"
      }
    },
    {
      "cell_type": "code",
      "source": [
        "inversion_inicial = 10000\n",
        "flujo_ano_1 = 3000\n",
        "flujo_ano_2 = 3000\n",
        "flujo_ano_3 = 3000\n",
        "tasa_descuento = 0.05"
      ],
      "metadata": {
        "id": "WpfABzFgzeqK"
      },
      "execution_count": 11,
      "outputs": []
    },
    {
      "cell_type": "code",
      "source": [
        "vpn = (flujo_ano_1 / (1 + tasa_descuento)**1) + \\\n",
        "      (flujo_ano_2 / (1 + tasa_descuento)**2) + \\\n",
        "      (flujo_ano_3 / (1 + tasa_descuento)**3) - inversion_inicial\n",
        "print(\"el Valor Presente Neto (VPN) es:\", vpn)"
      ],
      "metadata": {
        "colab": {
          "base_uri": "https://localhost:8080/"
        },
        "id": "Xd8Go11dz90x",
        "outputId": "a5994fd4-f366-41a2-a048-3d646731fb59"
      },
      "execution_count": 12,
      "outputs": [
        {
          "output_type": "stream",
          "name": "stdout",
          "text": [
            "el Valor Presente Neto (VPN) es: -1830.2559118885656\n"
          ]
        }
      ]
    },
    {
      "cell_type": "code",
      "source": [
        "if vpn > 0:\n",
        "  print(\"El proyecto es viable, ya que el VPN es positivo.\")\n",
        "else:\n",
        "  print(\"El proyecto no es viable, ya que el VPN es negativo.\")"
      ],
      "metadata": {
        "colab": {
          "base_uri": "https://localhost:8080/"
        },
        "id": "VlWZoam30gVq",
        "outputId": "473370c3-5694-4156-f8ef-e5c920f3e806"
      },
      "execution_count": null,
      "outputs": [
        {
          "output_type": "stream",
          "name": "stdout",
          "text": [
            "El proyecto es viable, ya que el VPN es positivo.\n"
          ]
        }
      ]
    },
    {
      "cell_type": "code",
      "source": [],
      "metadata": {
        "id": "nHhXoJsr5OXR"
      },
      "execution_count": null,
      "outputs": []
    }
  ]
}